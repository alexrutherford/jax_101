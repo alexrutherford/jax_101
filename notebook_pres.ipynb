{
 "cells": [
  {
   "cell_type": "markdown",
   "id": "b377d3a3",
   "metadata": {
    "slideshow": {
     "slide_type": "slide"
    }
   },
   "source": [
    "# JAX for Beginners, Novices and Experts\n",
    "## Alex Rutherford\n",
    "## 5th July 2024"
   ]
  },
  {
   "cell_type": "markdown",
   "id": "0bb0a879",
   "metadata": {
    "slideshow": {
     "slide_type": "slide"
    }
   },
   "source": [
    "# Some caveats\n",
    "\n",
    "- Not an ML expert  \n",
    "- This presentation not focused on a paper  \n",
    "- More focused on Python wrapper to JAX and how to use it. "
   ]
  },
  {
   "cell_type": "markdown",
   "id": "cf274a45",
   "metadata": {
    "slideshow": {
     "slide_type": "slide"
    }
   },
   "source": [
    "![jax paper](figs/jax_paper.png)"
   ]
  },
  {
   "cell_type": "markdown",
   "id": "3fcbc189",
   "metadata": {
    "slideshow": {
     "slide_type": "-"
    }
   },
   "source": [
    "[Compiling machine learning programs via high-level tracing](https://mlsys.org/Conferences/doc/2018/146.pdf) (2018) Frostig et al"
   ]
  },
  {
   "cell_type": "markdown",
   "id": "d811f22e",
   "metadata": {
    "slideshow": {
     "slide_type": "slide"
    }
   },
   "source": [
    "# JAX at a high level\n",
    "- JAX is a library for accelerated low level numerical operations\n",
    "- Built primarily (but not only!) for ML\n",
    "- Gaining traction in advanced ML and outside"
   ]
  },
  {
   "cell_type": "markdown",
   "id": "5d11deb0",
   "metadata": {
    "slideshow": {
     "slide_type": "slide"
    }
   },
   "source": [
    "# Jax: Beginners\n",
    "### JAX as a 'plug and play backend'"
   ]
  },
  {
   "cell_type": "code",
   "execution_count": 1,
   "id": "9420bf18",
   "metadata": {
    "slideshow": {
     "slide_type": "subslide"
    }
   },
   "outputs": [],
   "source": [
    "import os\n",
    "os.environ[\"KERAS_BACKEND\"] = \"jax\"\n",
    "# jax | tensorflow | torch"
   ]
  },
  {
   "cell_type": "code",
   "execution_count": 2,
   "id": "aaccaf2b",
   "metadata": {
    "slideshow": {
     "slide_type": "fragment"
    }
   },
   "outputs": [],
   "source": [
    "import keras"
   ]
  },
  {
   "cell_type": "code",
   "execution_count": 3,
   "id": "16360e86",
   "metadata": {
    "slideshow": {
     "slide_type": "fragment"
    }
   },
   "outputs": [
    {
     "data": {
      "text/plain": [
       "'jax'"
      ]
     },
     "execution_count": 3,
     "metadata": {},
     "output_type": "execute_result"
    }
   ],
   "source": [
    "keras.backend.backend()"
   ]
  },
  {
   "cell_type": "code",
   "execution_count": 4,
   "id": "52904f65",
   "metadata": {
    "slideshow": {
     "slide_type": "fragment"
    }
   },
   "outputs": [],
   "source": [
    "(x_train, y_train), (x_test, y_test) = keras.datasets.mnist.load_data()"
   ]
  },
  {
   "cell_type": "code",
   "execution_count": 5,
   "id": "faa95fc9",
   "metadata": {},
   "outputs": [],
   "source": [
    "model = keras.Sequential(\n",
    "    [\n",
    "        keras.Input(shape=x_train.shape),\n",
    "        keras.layers.Conv2D(32, kernel_size=(3, 3), activation=\"relu\"),\n",
    "        keras.layers.MaxPooling2D(pool_size=(2, 2)),\n",
    "        keras.layers.Conv2D(64, kernel_size=(3, 3), activation=\"relu\"),\n",
    "        keras.layers.MaxPooling2D(pool_size=(2, 2)),\n",
    "        keras.layers.Flatten(),\n",
    "        keras.layers.Dropout(0.5),\n",
    "        keras.layers.Dense(len(set(y_train)), activation=\"softmax\"),\n",
    "    ]\n",
    ")"
   ]
  },
  {
   "cell_type": "markdown",
   "id": "54c9a41c",
   "metadata": {
    "slideshow": {
     "slide_type": "slide"
    }
   },
   "source": [
    "- Simplest way to think of JAX is low level numerical library\n",
    "- Focused on ML\n",
    "- Built around doing a small set of things well and quickly"
   ]
  },
  {
   "cell_type": "markdown",
   "id": "559fbf7a",
   "metadata": {
    "slideshow": {
     "slide_type": "-"
    }
   },
   "source": [
    "![jax paper](figs/benchmarks.png)"
   ]
  },
  {
   "cell_type": "markdown",
   "id": "a86d0c93",
   "metadata": {
    "slideshow": {
     "slide_type": "slide"
    }
   },
   "source": [
    "# Jax: Novices\n",
    "## JAX as a library for accelerated calculations"
   ]
  },
  {
   "cell_type": "markdown",
   "id": "1b6339ac",
   "metadata": {
    "slideshow": {
     "slide_type": "subslide"
    }
   },
   "source": [
    "- Using JAX 'under the hood' will give good GPU/TPU acceleration\n",
    "- JAX has it's own powerful API\n",
    "- Main data structure is `jax.Array`\n",
    "- Built around 4 main functions (small library!)  \n",
    "    - `jit()`  \n",
    "    - `grad()`  \n",
    "    - `vmap()`  \n",
    "    - `pmap()`  "
   ]
  },
  {
   "cell_type": "markdown",
   "id": "844af8ab",
   "metadata": {
    "slideshow": {
     "slide_type": "slide"
    }
   },
   "source": [
    "# `jax.Array`"
   ]
  },
  {
   "cell_type": "code",
   "execution_count": 6,
   "id": "6d92fbf1",
   "metadata": {
    "slideshow": {
     "slide_type": "fragment"
    }
   },
   "outputs": [],
   "source": [
    "import matplotlib.pyplot as plt\n",
    "import numpy as np"
   ]
  },
  {
   "cell_type": "code",
   "execution_count": 7,
   "id": "af7d7b0a",
   "metadata": {
    "slideshow": {
     "slide_type": "fragment"
    }
   },
   "outputs": [],
   "source": [
    "import jax.numpy as jnp\n",
    "import jax"
   ]
  },
  {
   "cell_type": "code",
   "execution_count": 12,
   "id": "0d69ff02",
   "metadata": {
    "slideshow": {
     "slide_type": "fragment"
    }
   },
   "outputs": [
    {
     "data": {
      "text/plain": [
       "Array([1., 1., 1., 1., 1., 1., 1., 1., 1., 1.], dtype=float32)"
      ]
     },
     "execution_count": 12,
     "metadata": {},
     "output_type": "execute_result"
    }
   ],
   "source": [
    "x = jnp.ones(10)\n",
    "# Borrows Numpy syntax\n",
    "x"
   ]
  },
  {
   "cell_type": "code",
   "execution_count": 10,
   "id": "fa70689f",
   "metadata": {
    "slideshow": {
     "slide_type": "fragment"
    }
   },
   "outputs": [
    {
     "data": {
      "text/plain": [
       "Array([ 1.,  2.,  3.,  4.,  5.,  6.,  7.,  8.,  9., 10.], dtype=float32)"
      ]
     },
     "execution_count": 10,
     "metadata": {},
     "output_type": "execute_result"
    }
   ],
   "source": [
    "x.cumsum()"
   ]
  },
  {
   "cell_type": "code",
   "execution_count": 11,
   "id": "327d2e98",
   "metadata": {
    "slideshow": {
     "slide_type": "fragment"
    }
   },
   "outputs": [
    {
     "data": {
      "text/plain": [
       "{CpuDevice(id=0)}"
      ]
     },
     "execution_count": 11,
     "metadata": {},
     "output_type": "execute_result"
    }
   ],
   "source": [
    "x.devices()\n",
    "# Stored on disk"
   ]
  },
  {
   "cell_type": "markdown",
   "id": "9338c0ef",
   "metadata": {
    "slideshow": {
     "slide_type": "slide"
    }
   },
   "source": [
    "# `jit()`"
   ]
  },
  {
   "cell_type": "markdown",
   "id": "a47b20d9",
   "metadata": {
    "slideshow": {
     "slide_type": "fragment"
    }
   },
   "source": [
    "## _A computer can run code faster when provided with as much information as possible_\n",
    "\n",
    "(Python is slow because it is interpreted [[Python Performance Matters](https://www.youtube.com/watch?v=vVUnCXKuNOg)])"
   ]
  },
  {
   "cell_type": "markdown",
   "id": "26585e00",
   "metadata": {
    "slideshow": {
     "slide_type": "fragment"
    }
   },
   "source": [
    "## `jit()` allows for Python code to be _compiled_ and so sped up"
   ]
  },
  {
   "cell_type": "code",
   "execution_count": 13,
   "id": "18945d61",
   "metadata": {
    "slideshow": {
     "slide_type": "slide"
    }
   },
   "outputs": [],
   "source": [
    "def my_func(x):\n",
    "    return x**2 + 1\n",
    "# Define a trivial function"
   ]
  },
  {
   "cell_type": "code",
   "execution_count": 14,
   "id": "8d847229",
   "metadata": {
    "slideshow": {
     "slide_type": "fragment"
    }
   },
   "outputs": [],
   "source": [
    "x = jnp.arange(1000)\n",
    "# Make an array"
   ]
  },
  {
   "cell_type": "code",
   "execution_count": 15,
   "id": "3747769c",
   "metadata": {
    "slideshow": {
     "slide_type": "fragment"
    }
   },
   "outputs": [
    {
     "name": "stdout",
     "output_type": "stream",
     "text": [
      "114 µs ± 3.97 µs per loop (mean ± std. dev. of 7 runs, 10,000 loops each)\n"
     ]
    }
   ],
   "source": [
    "%timeit _ = my_func(x)\n",
    "# How long does this take to run"
   ]
  },
  {
   "cell_type": "markdown",
   "id": "44e92637",
   "metadata": {
    "slideshow": {
     "slide_type": "fragment"
    }
   },
   "source": [
    "Now `jit()` the function"
   ]
  },
  {
   "cell_type": "code",
   "execution_count": 16,
   "id": "54a661a9",
   "metadata": {
    "slideshow": {
     "slide_type": "fragment"
    }
   },
   "outputs": [],
   "source": [
    "my_func_jitted = jax.jit(my_func)"
   ]
  },
  {
   "cell_type": "code",
   "execution_count": 18,
   "id": "6b3a9a01",
   "metadata": {
    "slideshow": {
     "slide_type": "fragment"
    }
   },
   "outputs": [
    {
     "name": "stdout",
     "output_type": "stream",
     "text": [
      "8.38 µs ± 161 ns per loop (mean ± std. dev. of 7 runs, 100,000 loops each)\n"
     ]
    }
   ],
   "source": [
    "%timeit _ = my_func_jitted(x)"
   ]
  },
  {
   "cell_type": "markdown",
   "id": "feb9755b",
   "metadata": {
    "slideshow": {
     "slide_type": "slide"
    }
   },
   "source": [
    "# `vmap()`"
   ]
  },
  {
   "cell_type": "markdown",
   "id": "25ffd6f9",
   "metadata": {
    "slideshow": {
     "slide_type": "fragment"
    }
   },
   "source": [
    "- Using vectorised functions instead of loops is more efficient\n",
    "- Vectorisation can be fiddly to implement\n",
    "- `vmap()` allows for easy vectorisation"
   ]
  },
  {
   "cell_type": "markdown",
   "id": "daf30197",
   "metadata": {
    "slideshow": {
     "slide_type": "slide"
    }
   },
   "source": [
    "## A Simple Example ([source](https://dinocausevic.com/2023/06/13/jax-vmap/))"
   ]
  },
  {
   "cell_type": "code",
   "execution_count": 19,
   "id": "3cecbeed",
   "metadata": {
    "slideshow": {
     "slide_type": "fragment"
    }
   },
   "outputs": [],
   "source": [
    "def custom_dot(x, y):\n",
    "    return jnp.dot(x, y) ** 2 "
   ]
  },
  {
   "cell_type": "code",
   "execution_count": 20,
   "id": "96ba7746",
   "metadata": {
    "slideshow": {
     "slide_type": "fragment"
    }
   },
   "outputs": [],
   "source": [
    "x = jnp.array([1,2,3])\n",
    "y = jnp.array([4,5,6])"
   ]
  },
  {
   "cell_type": "code",
   "execution_count": 21,
   "id": "09ae6783",
   "metadata": {
    "slideshow": {
     "slide_type": "fragment"
    }
   },
   "outputs": [
    {
     "data": {
      "text/plain": [
       "Array(1024, dtype=int32)"
      ]
     },
     "execution_count": 21,
     "metadata": {},
     "output_type": "execute_result"
    }
   ],
   "source": [
    "custom_dot(x,y)"
   ]
  },
  {
   "cell_type": "markdown",
   "id": "6d7a6656",
   "metadata": {
    "slideshow": {
     "slide_type": "slide"
    }
   },
   "source": [
    "# Now try to 'vectorise' over a batch"
   ]
  },
  {
   "cell_type": "code",
   "execution_count": 22,
   "id": "ee6a1934",
   "metadata": {
    "slideshow": {
     "slide_type": "subslide"
    }
   },
   "outputs": [],
   "source": [
    "x = jnp.asarray([\n",
    "    [2, 2, 2],\n",
    "    [3, 3, 3]])\n",
    "\n",
    "y = jnp.asarray([\n",
    "    [4, 4, 4],\n",
    "    [5, 5, 5]]) "
   ]
  },
  {
   "cell_type": "code",
   "execution_count": 23,
   "id": "7e5e0a38",
   "metadata": {
    "slideshow": {
     "slide_type": "subslide"
    }
   },
   "outputs": [
    {
     "ename": "TypeError",
     "evalue": "dot_general requires contracting dimensions to have the same shape, got (3,) and (2,).",
     "output_type": "error",
     "traceback": [
      "\u001b[0;31m---------------------------------------------------------------------------\u001b[0m",
      "\u001b[0;31mTypeError\u001b[0m                                 Traceback (most recent call last)",
      "Cell \u001b[0;32mIn[23], line 1\u001b[0m\n\u001b[0;32m----> 1\u001b[0m \u001b[43mcustom_dot\u001b[49m\u001b[43m(\u001b[49m\u001b[43mx\u001b[49m\u001b[43m,\u001b[49m\u001b[43m \u001b[49m\u001b[43my\u001b[49m\u001b[43m)\u001b[49m\n\u001b[1;32m      2\u001b[0m \u001b[38;5;66;03m# TypeError: dot_general requires contracting dimensions to have the same shape, got (3,) and (2,).\u001b[39;00m\n",
      "Cell \u001b[0;32mIn[19], line 2\u001b[0m, in \u001b[0;36mcustom_dot\u001b[0;34m(x, y)\u001b[0m\n\u001b[1;32m      1\u001b[0m \u001b[38;5;28;01mdef\u001b[39;00m \u001b[38;5;21mcustom_dot\u001b[39m(x, y):\n\u001b[0;32m----> 2\u001b[0m     \u001b[38;5;28;01mreturn\u001b[39;00m \u001b[43mjnp\u001b[49m\u001b[38;5;241;43m.\u001b[39;49m\u001b[43mdot\u001b[49m\u001b[43m(\u001b[49m\u001b[43mx\u001b[49m\u001b[43m,\u001b[49m\u001b[43m \u001b[49m\u001b[43my\u001b[49m\u001b[43m)\u001b[49m \u001b[38;5;241m*\u001b[39m\u001b[38;5;241m*\u001b[39m \u001b[38;5;241m2\u001b[39m\n",
      "    \u001b[0;31m[... skipping hidden 12 frame]\u001b[0m\n",
      "File \u001b[0;32m~/anaconda3/lib/python3.10/site-packages/jax/_src/numpy/lax_numpy.py:3288\u001b[0m, in \u001b[0;36mdot\u001b[0;34m(a, b, precision, preferred_element_type)\u001b[0m\n\u001b[1;32m   3286\u001b[0m   \u001b[38;5;28;01melse\u001b[39;00m:\n\u001b[1;32m   3287\u001b[0m     contract_dims \u001b[38;5;241m=\u001b[39m ((a_ndim \u001b[38;5;241m-\u001b[39m \u001b[38;5;241m1\u001b[39m,), (b_ndim \u001b[38;5;241m-\u001b[39m \u001b[38;5;241m2\u001b[39m,))\n\u001b[0;32m-> 3288\u001b[0m   result \u001b[38;5;241m=\u001b[39m \u001b[43mlax\u001b[49m\u001b[38;5;241;43m.\u001b[39;49m\u001b[43mdot_general\u001b[49m\u001b[43m(\u001b[49m\u001b[43ma\u001b[49m\u001b[43m,\u001b[49m\u001b[43m \u001b[49m\u001b[43mb\u001b[49m\u001b[43m,\u001b[49m\u001b[43m \u001b[49m\u001b[43mdimension_numbers\u001b[49m\u001b[38;5;241;43m=\u001b[39;49m\u001b[43m(\u001b[49m\u001b[43mcontract_dims\u001b[49m\u001b[43m,\u001b[49m\u001b[43m \u001b[49m\u001b[43mbatch_dims\u001b[49m\u001b[43m)\u001b[49m\u001b[43m,\u001b[49m\n\u001b[1;32m   3289\u001b[0m \u001b[43m                           \u001b[49m\u001b[43mprecision\u001b[49m\u001b[38;5;241;43m=\u001b[39;49m\u001b[43mprecision\u001b[49m\u001b[43m,\u001b[49m\u001b[43m \u001b[49m\u001b[43mpreferred_element_type\u001b[49m\u001b[38;5;241;43m=\u001b[39;49m\u001b[43mpreferred_element_type\u001b[49m\u001b[43m)\u001b[49m\n\u001b[1;32m   3290\u001b[0m \u001b[38;5;28;01mreturn\u001b[39;00m lax_internal\u001b[38;5;241m.\u001b[39m_convert_element_type(result, preferred_element_type, output_weak_type)\n",
      "    \u001b[0;31m[... skipping hidden 7 frame]\u001b[0m\n",
      "File \u001b[0;32m~/anaconda3/lib/python3.10/site-packages/jax/_src/lax/lax.py:2580\u001b[0m, in \u001b[0;36m_dot_general_shape_rule\u001b[0;34m(lhs, rhs, dimension_numbers, precision, preferred_element_type)\u001b[0m\n\u001b[1;32m   2577\u001b[0m \u001b[38;5;28;01mif\u001b[39;00m \u001b[38;5;129;01mnot\u001b[39;00m core\u001b[38;5;241m.\u001b[39mdefinitely_equal_shape(lhs_contracting_shape, rhs_contracting_shape):\n\u001b[1;32m   2578\u001b[0m   msg \u001b[38;5;241m=\u001b[39m (\u001b[38;5;124m\"\u001b[39m\u001b[38;5;124mdot_general requires contracting dimensions to have the same \u001b[39m\u001b[38;5;124m\"\u001b[39m\n\u001b[1;32m   2579\u001b[0m          \u001b[38;5;124m\"\u001b[39m\u001b[38;5;124mshape, got \u001b[39m\u001b[38;5;132;01m{}\u001b[39;00m\u001b[38;5;124m and \u001b[39m\u001b[38;5;132;01m{}\u001b[39;00m\u001b[38;5;124m.\u001b[39m\u001b[38;5;124m\"\u001b[39m)\n\u001b[0;32m-> 2580\u001b[0m   \u001b[38;5;28;01mraise\u001b[39;00m \u001b[38;5;167;01mTypeError\u001b[39;00m(msg\u001b[38;5;241m.\u001b[39mformat(lhs_contracting_shape, rhs_contracting_shape))\n\u001b[1;32m   2582\u001b[0m \u001b[38;5;28;01mreturn\u001b[39;00m _dot_general_shape_computation(lhs\u001b[38;5;241m.\u001b[39mshape, rhs\u001b[38;5;241m.\u001b[39mshape, dimension_numbers)\n",
      "\u001b[0;31mTypeError\u001b[0m: dot_general requires contracting dimensions to have the same shape, got (3,) and (2,)."
     ]
    }
   ],
   "source": [
    "custom_dot(x, y)\n",
    "# TypeError: dot_general requires contracting dimensions to have the same shape, got (3,) and (2,)."
   ]
  },
  {
   "cell_type": "markdown",
   "id": "9b2c82ef",
   "metadata": {
    "slideshow": {
     "slide_type": "subslide"
    }
   },
   "source": [
    "## This can be fixed specifying the axis for broadcasting\n",
    "\n",
    "e.g. x[:,-1], axis = 1"
   ]
  },
  {
   "cell_type": "markdown",
   "id": "68292743",
   "metadata": {
    "slideshow": {
     "slide_type": "slide"
    }
   },
   "source": [
    "## Use a loop"
   ]
  },
  {
   "cell_type": "code",
   "execution_count": 24,
   "id": "1322d626",
   "metadata": {
    "slideshow": {
     "slide_type": "fragment"
    }
   },
   "outputs": [],
   "source": [
    "def custom_dot(x, y):\n",
    "    return jnp.dot(x, y) ** 2"
   ]
  },
  {
   "cell_type": "code",
   "execution_count": 25,
   "id": "0f163cdf",
   "metadata": {
    "slideshow": {
     "slide_type": "fragment"
    }
   },
   "outputs": [],
   "source": [
    "def naive_custom_dot(x_batched, y_batched):\n",
    "    return jnp.stack([\n",
    "        custom_dot(v1, v2)\n",
    "        for v1, v2 in zip(x_batched, y_batched) \n",
    "    ])"
   ]
  },
  {
   "cell_type": "code",
   "execution_count": 26,
   "id": "b358a159",
   "metadata": {
    "slideshow": {
     "slide_type": "fragment"
    }
   },
   "outputs": [
    {
     "data": {
      "text/plain": [
       "Array([ 576, 2025], dtype=int32)"
      ]
     },
     "execution_count": 26,
     "metadata": {},
     "output_type": "execute_result"
    }
   ],
   "source": [
    "naive_custom_dot(x, y)"
   ]
  },
  {
   "cell_type": "markdown",
   "id": "30e0ef52",
   "metadata": {
    "slideshow": {
     "slide_type": "slide"
    }
   },
   "source": [
    "## Instead of looping, `vmap()` it"
   ]
  },
  {
   "cell_type": "code",
   "execution_count": 27,
   "id": "623da8a0",
   "metadata": {},
   "outputs": [],
   "source": [
    "x = jnp.asarray([\n",
    "    [2, 2, 2],\n",
    "    [3, 3, 3]])\n",
    "\n",
    "y = jnp.asarray([\n",
    "    [4, 4, 4],\n",
    "    [5, 5, 5]])"
   ]
  },
  {
   "cell_type": "code",
   "execution_count": 28,
   "id": "d1118d4b",
   "metadata": {
    "slideshow": {
     "slide_type": "fragment"
    }
   },
   "outputs": [],
   "source": [
    "batched_custom_dot = jax.vmap(custom_dot)"
   ]
  },
  {
   "cell_type": "code",
   "execution_count": 29,
   "id": "7e870fd6",
   "metadata": {
    "slideshow": {
     "slide_type": "fragment"
    }
   },
   "outputs": [
    {
     "data": {
      "text/plain": [
       "Array([ 576, 2025], dtype=int32)"
      ]
     },
     "execution_count": 29,
     "metadata": {},
     "output_type": "execute_result"
    }
   ],
   "source": [
    "batched_custom_dot(x,y)"
   ]
  },
  {
   "cell_type": "markdown",
   "id": "440daa9d",
   "metadata": {
    "slideshow": {
     "slide_type": "slide"
    }
   },
   "source": [
    "## Now time it"
   ]
  },
  {
   "cell_type": "code",
   "execution_count": 30,
   "id": "12a16b67",
   "metadata": {
    "slideshow": {
     "slide_type": "fragment"
    }
   },
   "outputs": [
    {
     "name": "stdout",
     "output_type": "stream",
     "text": [
      "467 µs ± 9.3 µs per loop (mean ± std. dev. of 7 runs, 1,000 loops each)\n"
     ]
    }
   ],
   "source": [
    "%timeit _ = naive_custom_dot(x,y)\n",
    "# Quite slow "
   ]
  },
  {
   "cell_type": "code",
   "execution_count": 31,
   "id": "9e5773fb",
   "metadata": {
    "slideshow": {
     "slide_type": "fragment"
    }
   },
   "outputs": [
    {
     "name": "stdout",
     "output_type": "stream",
     "text": [
      "1.05 ms ± 16.3 µs per loop (mean ± std. dev. of 7 runs, 1,000 loops each)\n"
     ]
    }
   ],
   "source": [
    "%timeit _ = batched_custom_dot(x,y)\n",
    "# Even slower! (Due to batching overhead on small arrays)"
   ]
  },
  {
   "cell_type": "markdown",
   "id": "046fee4c",
   "metadata": {
    "slideshow": {
     "slide_type": "slide"
    }
   },
   "source": [
    "## Now `vmap()` and time it (with larger arrays)"
   ]
  },
  {
   "cell_type": "code",
   "execution_count": 32,
   "id": "e08df536",
   "metadata": {
    "slideshow": {
     "slide_type": "fragment"
    }
   },
   "outputs": [],
   "source": [
    "x = jnp.arange(0,100)\n",
    "y = jnp.arange(100,200)\n",
    "# Make some large data arrays"
   ]
  },
  {
   "cell_type": "code",
   "execution_count": 33,
   "id": "e2058397",
   "metadata": {
    "slideshow": {
     "slide_type": "fragment"
    }
   },
   "outputs": [
    {
     "name": "stdout",
     "output_type": "stream",
     "text": [
      "18.1 ms ± 348 µs per loop (mean ± std. dev. of 7 runs, 1 loop each)\n"
     ]
    }
   ],
   "source": [
    "%timeit _ = naive_custom_dot(x,y)\n",
    "# Quite slow"
   ]
  },
  {
   "cell_type": "code",
   "execution_count": 38,
   "id": "437ebc18",
   "metadata": {
    "slideshow": {
     "slide_type": "fragment"
    }
   },
   "outputs": [
    {
     "name": "stdout",
     "output_type": "stream",
     "text": [
      "1.2 ms ± 178 µs per loop (mean ± std. dev. of 7 runs, 1,000 loops each)\n"
     ]
    }
   ],
   "source": [
    "%timeit _ = batched_custom_dot(x,y)\n",
    "# Faster than looping with large arrays"
   ]
  },
  {
   "cell_type": "markdown",
   "id": "b9d48b05",
   "metadata": {
    "slideshow": {
     "slide_type": "slide"
    }
   },
   "source": [
    "## Bonus : Now `jit()` it _and_ `vmap()` it"
   ]
  },
  {
   "cell_type": "code",
   "execution_count": 35,
   "id": "5ab7afc5",
   "metadata": {
    "slideshow": {
     "slide_type": "fragment"
    }
   },
   "outputs": [],
   "source": [
    "jitted_batched_custom_dot = jax.jit(batched_custom_dot)"
   ]
  },
  {
   "cell_type": "code",
   "execution_count": 36,
   "id": "860acb6b",
   "metadata": {
    "slideshow": {
     "slide_type": "fragment"
    }
   },
   "outputs": [
    {
     "name": "stdout",
     "output_type": "stream",
     "text": [
      "9.26 µs ± 287 ns per loop (mean ± std. dev. of 7 runs, 100,000 loops each)\n"
     ]
    }
   ],
   "source": [
    "%timeit _ = jitted_batched_custom_dot(x,y)\n",
    "# Now faster"
   ]
  },
  {
   "cell_type": "markdown",
   "id": "89a26979",
   "metadata": {
    "slideshow": {
     "slide_type": "slide"
    }
   },
   "source": [
    "# `pmap()`"
   ]
  },
  {
   "cell_type": "markdown",
   "id": "c8cf1091",
   "metadata": {
    "slideshow": {
     "slide_type": "fragment"
    }
   },
   "source": [
    "- `pmap()` has similar logic to `vmap()`\n",
    "- Now a function is broadcast to several devices\n",
    "- Also does compilation (same as applying `jit()`)"
   ]
  },
  {
   "cell_type": "markdown",
   "id": "0a51a9a7",
   "metadata": {
    "slideshow": {
     "slide_type": "fragment"
    }
   },
   "source": [
    "API is likely to change, possibly `pmap()` will be deprecated for `xmap()`"
   ]
  },
  {
   "cell_type": "markdown",
   "id": "254088bb",
   "metadata": {
    "slideshow": {
     "slide_type": "slide"
    }
   },
   "source": [
    "# `grad()`"
   ]
  },
  {
   "cell_type": "markdown",
   "id": "e736d09d",
   "metadata": {
    "slideshow": {
     "slide_type": "slide"
    }
   },
   "source": [
    "- Returns a function that calculates the gradient of a function\n",
    "- Consider $x^{2}$\n",
    "- We know its derivative to be $2x$"
   ]
  },
  {
   "cell_type": "code",
   "execution_count": 39,
   "id": "dc42a85b",
   "metadata": {
    "slideshow": {
     "slide_type": "slide"
    }
   },
   "outputs": [],
   "source": [
    "x = jnp.arange(0,10,0.100)"
   ]
  },
  {
   "cell_type": "code",
   "execution_count": 40,
   "id": "fa439433",
   "metadata": {
    "slideshow": {
     "slide_type": "fragment"
    }
   },
   "outputs": [],
   "source": [
    "def square_func(x):\n",
    "    return x*x"
   ]
  },
  {
   "cell_type": "code",
   "execution_count": 41,
   "id": "dddca782",
   "metadata": {
    "hide_input": true,
    "slideshow": {
     "slide_type": "fragment"
    }
   },
   "outputs": [
    {
     "data": {
      "image/png": "[encoded data removed]",
      "text/plain": [
       "<Figure size 640x480 with 1 Axes>"
      ]
     },
     "metadata": {},
     "output_type": "display_data"
    }
   ],
   "source": [
    "_ = plt.plot(x,square_func(x),label = '$x^{2}$')\n",
    "_ = plt.plot(x,2*x,label = '$2x$')\n",
    "_ = plt.legend()\n",
    "_ = plt.xlabel('x')"
   ]
  },
  {
   "cell_type": "code",
   "execution_count": 44,
   "id": "fac092ab",
   "metadata": {
    "slideshow": {
     "slide_type": "slide"
    }
   },
   "outputs": [],
   "source": [
    "square_grad = jax.grad(square_func)"
   ]
  },
  {
   "cell_type": "code",
   "execution_count": 45,
   "id": "1e8cc4b4",
   "metadata": {},
   "outputs": [],
   "source": [
    "grad_vals = jax.vmap(square_grad)(x)"
   ]
  },
  {
   "cell_type": "code",
   "execution_count": 46,
   "id": "4ed340c9",
   "metadata": {
    "hide_input": true,
    "slideshow": {
     "slide_type": "fragment"
    }
   },
   "outputs": [
    {
     "data": {
      "image/png": "[encoded data removed]",
      "text/plain": [
       "<Figure size 640x480 with 1 Axes>"
      ]
     },
     "metadata": {},
     "output_type": "display_data"
    }
   ],
   "source": [
    "_ = plt.plot(x,square_func(x),label = '$x^{2}$')\n",
    "_ = plt.plot(x,2*x,label = '$2x$')\n",
    "_ = plt.plot(x,grad_vals,'x',label = '$grad(x^{2})$')\n",
    "_ = plt.legend()\n",
    "_ = plt.xlabel('x')"
   ]
  },
  {
   "cell_type": "markdown",
   "id": "2b90c067",
   "metadata": {
    "slideshow": {
     "slide_type": "slide"
    }
   },
   "source": [
    "## This is amazing"
   ]
  },
  {
   "cell_type": "code",
   "execution_count": 41,
   "id": "f3b264d4",
   "metadata": {
    "hide_input": true,
    "slideshow": {
     "slide_type": "fragment"
    },
    "tags": [
     "hide-input"
    ]
   },
   "outputs": [
    {
     "data": {
      "text/html": [
       "<iframe src=\"https://giphy.com/embed/26ufdipQqU2lhNA4g\" width=\"480\" height=\"480\" style=\"\" frameBorder=\"0\" class=\"giphy-embed\" allowFullScreen></iframe><p><a href=\"https://giphy.com/gifs/producthunt-mind-blown-blow-your-26ufdipQqU2lhNA4g\">via GIPHY</a></p>\n"
      ],
      "text/plain": [
       "<IPython.core.display.HTML object>"
      ]
     },
     "metadata": {},
     "output_type": "display_data"
    }
   ],
   "source": [
    "%%html\n",
    "<iframe src=\"https://giphy.com/embed/26ufdipQqU2lhNA4g\" width=\"480\" height=\"480\" style=\"\" frameBorder=\"0\" class=\"giphy-embed\" allowFullScreen></iframe><p><a href=\"https://giphy.com/gifs/producthunt-mind-blown-blow-your-26ufdipQqU2lhNA4g\">via GIPHY</a></p>"
   ]
  },
  {
   "cell_type": "markdown",
   "id": "13bf7357",
   "metadata": {
    "slideshow": {
     "slide_type": "subslide"
    }
   },
   "source": [
    "- Instead of \n",
    "    - Coding a function \n",
    "    - Calculating the derivative by hand \n",
    "    - Coding the derivative \n",
    "- We can calculate the derivative directly as a new function "
   ]
  },
  {
   "cell_type": "markdown",
   "id": "ebc2dc82",
   "metadata": {
    "slideshow": {
     "slide_type": "slide"
    }
   },
   "source": [
    "Consider $f(x) = tanh(sin(cos(e^{x})))$"
   ]
  },
  {
   "cell_type": "code",
   "execution_count": 47,
   "id": "6a13c966",
   "metadata": {
    "slideshow": {
     "slide_type": "fragment"
    }
   },
   "outputs": [],
   "source": [
    "def crazy_func(x):\n",
    "    return jnp.tanh(jnp.sin(jnp.cos(jnp.exp(x))))"
   ]
  },
  {
   "cell_type": "code",
   "execution_count": 16,
   "id": "4e63dee0",
   "metadata": {
    "slideshow": {
     "slide_type": "skip"
    }
   },
   "outputs": [
    {
     "ename": "SyntaxError",
     "evalue": "invalid syntax (4141250471.py, line 1)",
     "output_type": "error",
     "traceback": [
      "\u001b[0;36m  Cell \u001b[0;32mIn[16], line 1\u001b[0;36m\u001b[0m\n\u001b[0;31m    -e^x cos(cos(e^x)) sech^2(sin(cos(e^x))) sin(e^x)\u001b[0m\n\u001b[0m         ^\u001b[0m\n\u001b[0;31mSyntaxError\u001b[0m\u001b[0;31m:\u001b[0m invalid syntax\n"
     ]
    }
   ],
   "source": [
    "-e^x cos(cos(e^x)) sech^2(sin(cos(e^x))) sin(e^x)\n",
    "# Wolfram solution"
   ]
  },
  {
   "cell_type": "code",
   "execution_count": 48,
   "id": "6a00042d",
   "metadata": {
    "slideshow": {
     "slide_type": "fragment"
    }
   },
   "outputs": [],
   "source": [
    "x = jnp.arange(0,5,0.100)"
   ]
  },
  {
   "cell_type": "code",
   "execution_count": 49,
   "id": "474fbc25",
   "metadata": {
    "hide_input": true,
    "slideshow": {
     "slide_type": "subslide"
    }
   },
   "outputs": [
    {
     "data": {
      "image/png": "[encoded data removed]",
      "text/plain": [
       "<Figure size 640x480 with 1 Axes>"
      ]
     },
     "metadata": {},
     "output_type": "display_data"
    }
   ],
   "source": [
    "_ = plt.plot(x,crazy_func(x))\n",
    "_ = plt.xlabel('x')"
   ]
  },
  {
   "cell_type": "code",
   "execution_count": 50,
   "id": "b97164f2",
   "metadata": {
    "slideshow": {
     "slide_type": "slide"
    }
   },
   "outputs": [],
   "source": [
    "crazy_func_grad = jax.grad(crazy_func)"
   ]
  },
  {
   "cell_type": "code",
   "execution_count": 51,
   "id": "7fe4d7ea",
   "metadata": {
    "hide_input": true,
    "slideshow": {
     "slide_type": "fragment"
    }
   },
   "outputs": [
    {
     "data": {
      "image/png": "[encoded data removed]",
      "text/plain": [
       "<Figure size 640x480 with 1 Axes>"
      ]
     },
     "metadata": {},
     "output_type": "display_data"
    }
   ],
   "source": [
    "_ = plt.plot(x,crazy_func(x)/jnp.max(crazy_func(x)),label = 'f(x)')\n",
    "_ = plt.plot(x,jax.vmap(crazy_func_grad)(x)/jnp.max(jax.vmap(crazy_func_grad)(x)),'x',label = 'grad(f(x))')\n",
    "_ = plt.xlabel('x')\n",
    "_ = plt.legend()"
   ]
  },
  {
   "cell_type": "markdown",
   "id": "eff15444",
   "metadata": {
    "slideshow": {
     "slide_type": "slide"
    }
   },
   "source": [
    "# Jax: Experts\n",
    "## JAX as a gradient centric accelerated functional programming language"
   ]
  },
  {
   "cell_type": "markdown",
   "id": "1dcc6df4",
   "metadata": {
    "slideshow": {
     "slide_type": "subslide"
    }
   },
   "source": [
    "## Main concepts\n",
    "1.  Automatic Differentiation\n",
    "2.  Functional Programming"
   ]
  },
  {
   "cell_type": "markdown",
   "id": "b0767586",
   "metadata": {
    "slideshow": {
     "slide_type": "slide"
    }
   },
   "source": [
    "# 1. Auto Diff \n",
    "## (Algorithmic differentiation, AutoGrad)"
   ]
  },
  {
   "cell_type": "markdown",
   "id": "18f996b0",
   "metadata": {
    "slideshow": {
     "slide_type": "fragment"
    }
   },
   "source": [
    "## There are three methods to calculate a gradient\n",
    "\n",
    "- Symbolic differentation\n",
    "- Numerical differentiation\n",
    "- Algorithmic differentiation"
   ]
  },
  {
   "cell_type": "markdown",
   "id": "e11cc2a9",
   "metadata": {
    "slideshow": {
     "slide_type": "subslide"
    }
   },
   "source": [
    "- Algorithmic differentiation underlies back-propagation\n",
    "- Allows for weights in complex neural networks to be updated\n",
    "- Represents a whole branch of optimisation (gradient-based optimisation)\n",
    "\n",
    "![Back prop](https://upload.wikimedia.org/wikipedia/commons/e/ec/Back_Propagation_Example.svg)\n",
    "\n",
    "[Read more: [alexey.radul.name/ideas/2013/introduction-to-automatic-differentiation/](https://alexey.radul.name/ideas/2013/introduction-to-automatic-differentiation/)]"
   ]
  },
  {
   "cell_type": "markdown",
   "id": "a9a100c4",
   "metadata": {
    "slideshow": {
     "slide_type": "slide"
    }
   },
   "source": [
    "# 2. Functional Programming"
   ]
  },
  {
   "cell_type": "markdown",
   "id": "7719188b",
   "metadata": {
    "slideshow": {
     "slide_type": "subslide"
    }
   },
   "source": [
    "- This a distinct style of programming\n",
    "- Lisp, Perl, Spark are all primarily functional programming languages\n",
    "- Python, C primarily imperative programming languages"
   ]
  },
  {
   "cell_type": "markdown",
   "id": "beb4bd87",
   "metadata": {
    "slideshow": {
     "slide_type": "subslide"
    }
   },
   "source": [
    "## How do I know if I am doing functional programming?"
   ]
  },
  {
   "cell_type": "markdown",
   "id": "22f363a6",
   "metadata": {
    "slideshow": {
     "slide_type": "subslide"
    }
   },
   "source": [
    "- Lots of functions!\n",
    "- No 'side-effects' or 'state'\n",
    "- Data structures are immutable\n",
    "- Maps instead of loops"
   ]
  },
  {
   "cell_type": "markdown",
   "id": "1b461f86",
   "metadata": {
    "slideshow": {
     "slide_type": "slide"
    }
   },
   "source": [
    "## Comparison to Imperative Programming [[source]](https://en.wikipedia.org/wiki/Functional_programming#Imperative_vs._functional_programming)"
   ]
  },
  {
   "cell_type": "code",
   "execution_count": null,
   "id": "aa99597a",
   "metadata": {
    "slideshow": {
     "slide_type": "subslide"
    }
   },
   "outputs": [],
   "source": [
    "const numList = [1, 2, 3, 4, 5, 6, 7, 8, 9, 10];\n",
    "let result = 0;\n",
    "for (let i = 0; i < numList.length; i++) {\n",
    "  if (numList[i] % 2 === 0) {\n",
    "    result += numList[i] * 10;\n",
    "  }\n",
    "}\n",
    "# Imperative"
   ]
  },
  {
   "cell_type": "code",
   "execution_count": null,
   "id": "5f46fa0d",
   "metadata": {
    "slideshow": {
     "slide_type": "fragment"
    }
   },
   "outputs": [],
   "source": [
    "const result = [1, 2, 3, 4, 5, 6, 7, 8, 9, 10]\n",
    "               .filter(n => n % 2 === 0)\n",
    "               .map(a => a * 10)\n",
    "               .reduce((a, b) => a + b, 0);\n",
    "# Functional"
   ]
  },
  {
   "cell_type": "markdown",
   "id": "1c66f39a",
   "metadata": {
    "slideshow": {
     "slide_type": "slide"
    }
   },
   "source": [
    "## These concepts underly JAX\n",
    "\n",
    "- If functions are 'pure', they can be 'traced'\n",
    "- Tracing allows JAX to differentiate nested functions of arbitrary complexity\n",
    "- Including loops, random numbers, control structures (!)"
   ]
  },
  {
   "cell_type": "markdown",
   "id": "47db4194",
   "metadata": {
    "slideshow": {
     "slide_type": "slide"
    }
   },
   "source": [
    "## To be aware of\n",
    "\n",
    "- These capabilities come with some caveats\n",
    "- Must be aware of JAX constraints\n",
    "- Particularly random numbers, JAX friendly versions of functions etc\n",
    "\n",
    "[[JAX - The sharp bits](https://jax.readthedocs.io/en/latest/notebooks/Common_Gotchas_in_JAX.html)]"
   ]
  },
  {
   "cell_type": "markdown",
   "id": "3f25fb45",
   "metadata": {
    "slideshow": {
     "slide_type": "slide"
    }
   },
   "source": [
    "# Functions with control structures"
   ]
  },
  {
   "cell_type": "code",
   "execution_count": 95,
   "id": "cbdc255a",
   "metadata": {
    "slideshow": {
     "slide_type": "subslide"
    }
   },
   "outputs": [],
   "source": [
    "def naive_cond_func(x):\n",
    "    \n",
    "    if x > 1.0:\n",
    "        return 1.0\n",
    "    else:\n",
    "        return 0.0\n",
    "    # Use standard if/else"
   ]
  },
  {
   "cell_type": "code",
   "execution_count": 96,
   "id": "eb2e3719",
   "metadata": {
    "slideshow": {
     "slide_type": "fragment"
    }
   },
   "outputs": [
    {
     "data": {
      "text/plain": [
       "(0.0, 1.0)"
      ]
     },
     "execution_count": 96,
     "metadata": {},
     "output_type": "execute_result"
    }
   ],
   "source": [
    "naive_cond_func(0.9),naive_cond_func(1.1)\n",
    "# Fine"
   ]
  },
  {
   "cell_type": "code",
   "execution_count": 97,
   "id": "885497cf",
   "metadata": {
    "slideshow": {
     "slide_type": "fragment"
    }
   },
   "outputs": [
    {
     "data": {
      "text/plain": [
       "Array(0., dtype=float32, weak_type=True)"
      ]
     },
     "execution_count": 97,
     "metadata": {},
     "output_type": "execute_result"
    }
   ],
   "source": [
    "grad_naive_cond_func = jax.grad(naive_cond_func)\n",
    "grad_naive_cond_func(1.1)\n",
    "# Also fine"
   ]
  },
  {
   "cell_type": "code",
   "execution_count": 98,
   "id": "c870a2be",
   "metadata": {
    "slideshow": {
     "slide_type": "subslide"
    }
   },
   "outputs": [
    {
     "ename": "TracerBoolConversionError",
     "evalue": "Attempted boolean conversion of traced array with shape bool[]..\nThe error occurred while tracing the function naive_cond_func at /var/folders/k1/53y5f3kj0ds7q7r6fdjsn2kc0000gn/T/ipykernel_74899/917762618.py:1 for jit. This concrete value was not available in Python because it depends on the value of the argument x.\nSee https://jax.readthedocs.io/en/latest/errors.html#jax.errors.TracerBoolConversionError",
     "output_type": "error",
     "traceback": [
      "\u001b[0;31m---------------------------------------------------------------------------\u001b[0m",
      "\u001b[0;31mTracerBoolConversionError\u001b[0m                 Traceback (most recent call last)",
      "Cell \u001b[0;32mIn[98], line 1\u001b[0m\n\u001b[0;32m----> 1\u001b[0m \u001b[43mjax\u001b[49m\u001b[38;5;241;43m.\u001b[39;49m\u001b[43mjit\u001b[49m\u001b[43m(\u001b[49m\u001b[43mnaive_cond_func\u001b[49m\u001b[43m)\u001b[49m\u001b[43m(\u001b[49m\u001b[38;5;241;43m3.\u001b[39;49m\u001b[43m)\u001b[49m\n\u001b[1;32m      2\u001b[0m \u001b[38;5;66;03m# Not fine\u001b[39;00m\n",
      "    \u001b[0;31m[... skipping hidden 12 frame]\u001b[0m\n",
      "Cell \u001b[0;32mIn[95], line 3\u001b[0m, in \u001b[0;36mnaive_cond_func\u001b[0;34m(x)\u001b[0m\n\u001b[1;32m      1\u001b[0m \u001b[38;5;28;01mdef\u001b[39;00m \u001b[38;5;21mnaive_cond_func\u001b[39m(x):\n\u001b[0;32m----> 3\u001b[0m     \u001b[38;5;28;01mif\u001b[39;00m x \u001b[38;5;241m>\u001b[39m \u001b[38;5;241m1.0\u001b[39m:\n\u001b[1;32m      4\u001b[0m         \u001b[38;5;28;01mreturn\u001b[39;00m \u001b[38;5;241m1.0\u001b[39m\n\u001b[1;32m      5\u001b[0m     \u001b[38;5;28;01melse\u001b[39;00m:\n",
      "    \u001b[0;31m[... skipping hidden 1 frame]\u001b[0m\n",
      "File \u001b[0;32m~/anaconda3/lib/python3.10/site-packages/jax/_src/core.py:1510\u001b[0m, in \u001b[0;36mconcretization_function_error.<locals>.error\u001b[0;34m(self, arg)\u001b[0m\n\u001b[1;32m   1509\u001b[0m \u001b[38;5;28;01mdef\u001b[39;00m \u001b[38;5;21merror\u001b[39m(\u001b[38;5;28mself\u001b[39m, arg):\n\u001b[0;32m-> 1510\u001b[0m   \u001b[38;5;28;01mraise\u001b[39;00m TracerBoolConversionError(arg)\n",
      "\u001b[0;31mTracerBoolConversionError\u001b[0m: Attempted boolean conversion of traced array with shape bool[]..\nThe error occurred while tracing the function naive_cond_func at /var/folders/k1/53y5f3kj0ds7q7r6fdjsn2kc0000gn/T/ipykernel_74899/917762618.py:1 for jit. This concrete value was not available in Python because it depends on the value of the argument x.\nSee https://jax.readthedocs.io/en/latest/errors.html#jax.errors.TracerBoolConversionError"
     ]
    }
   ],
   "source": [
    "jax.jit(naive_cond_func)(3.)\n",
    "# Not fine"
   ]
  },
  {
   "cell_type": "markdown",
   "id": "87b904f3",
   "metadata": {
    "slideshow": {
     "slide_type": "subslide"
    }
   },
   "source": [
    "## Use JAX friendly operators (`jnp.where()`)"
   ]
  },
  {
   "cell_type": "code",
   "execution_count": 84,
   "id": "c9d740d5",
   "metadata": {
    "slideshow": {
     "slide_type": "-"
    }
   },
   "outputs": [],
   "source": [
    "def jax_cond_func(x):\n",
    "    return jnp.where(x > 1, 1.0, 0.0)\n",
    "    # Important to use JAX friendly operators like jnp.where\n",
    "    # Simple if/else will throw an error"
   ]
  },
  {
   "cell_type": "code",
   "execution_count": 85,
   "id": "1798a598",
   "metadata": {
    "slideshow": {
     "slide_type": "fragment"
    }
   },
   "outputs": [
    {
     "data": {
      "text/plain": [
       "(Array(1., dtype=float32, weak_type=True),\n",
       " Array(0., dtype=float32, weak_type=True))"
      ]
     },
     "execution_count": 85,
     "metadata": {},
     "output_type": "execute_result"
    }
   ],
   "source": [
    "jax_cond_func(1.1),jax_cond_func(0.1)"
   ]
  },
  {
   "cell_type": "code",
   "execution_count": 87,
   "id": "ca4c21a8",
   "metadata": {
    "slideshow": {
     "slide_type": "fragment"
    }
   },
   "outputs": [],
   "source": [
    "grad_jax_cond_func = jax.grad(jax_cond_func)\n",
    "grad_jax_cond_func(1.0)"
   ]
  },
  {
   "cell_type": "code",
   "execution_count": 90,
   "id": "bec38822",
   "metadata": {
    "slideshow": {
     "slide_type": "fragment"
    }
   },
   "outputs": [
    {
     "data": {
      "text/plain": [
       "Array(0., dtype=float32, weak_type=True)"
      ]
     },
     "execution_count": 90,
     "metadata": {},
     "output_type": "execute_result"
    }
   ],
   "source": [
    "jax.jit(jax_cond_func)(0.5)\n",
    "# Now this is fine"
   ]
  },
  {
   "cell_type": "markdown",
   "id": "6a6aac4b",
   "metadata": {
    "slideshow": {
     "slide_type": "slide"
    }
   },
   "source": [
    "# Functions with random numbers"
   ]
  },
  {
   "cell_type": "markdown",
   "id": "c1121dfb",
   "metadata": {
    "slideshow": {
     "slide_type": "fragment"
    }
   },
   "source": [
    "### _In order to be reproducible and vectorisable, random numbers in JAX work differently_"
   ]
  },
  {
   "cell_type": "markdown",
   "id": "10e374f3",
   "metadata": {
    "slideshow": {
     "slide_type": "fragment"
    }
   },
   "source": [
    "- Necessary to keep track of state of random number generator\n",
    "- Pass a key to each random number call\n",
    "- Use each key only once!\n",
    "- The key can be split to make new keys"
   ]
  },
  {
   "cell_type": "code",
   "execution_count": 115,
   "id": "458159cb",
   "metadata": {
    "slideshow": {
     "slide_type": "subslide"
    }
   },
   "outputs": [
    {
     "name": "stdout",
     "output_type": "stream",
     "text": [
      "Array((), dtype=key<fry>) overlaying:\n",
      "[ 0 42]\n"
     ]
    }
   ],
   "source": [
    "from jax import random\n",
    "\n",
    "key = random.key(42)\n",
    "print(key)"
   ]
  },
  {
   "cell_type": "code",
   "execution_count": 58,
   "id": "91e209e8",
   "metadata": {
    "slideshow": {
     "slide_type": "fragment"
    }
   },
   "outputs": [
    {
     "name": "stdout",
     "output_type": "stream",
     "text": [
      "-0.18471177\n",
      "-0.18471177\n"
     ]
    }
   ],
   "source": [
    "print(random.normal(key))\n",
    "print(random.normal(key))\n",
    "# Using the same key twice gives the same result"
   ]
  },
  {
   "cell_type": "code",
   "execution_count": 116,
   "id": "5ab7c069",
   "metadata": {
    "slideshow": {
     "slide_type": "fragment"
    }
   },
   "outputs": [
    {
     "data": {
      "text/plain": [
       "Array([ 0.36900434, -0.46067542, -0.8650934 ,  1.2080883 ,  1.003065  ,\n",
       "       -0.8708058 , -0.3984997 , -0.6670092 ,  0.33689356,  0.39822492],      dtype=float32)"
      ]
     },
     "execution_count": 116,
     "metadata": {},
     "output_type": "execute_result"
    }
   ],
   "source": [
    "random.normal(key,[10])\n",
    "# You can use a key to make more than one sample"
   ]
  },
  {
   "cell_type": "code",
   "execution_count": 117,
   "id": "d674841f",
   "metadata": {
    "slideshow": {
     "slide_type": "fragment"
    }
   },
   "outputs": [],
   "source": [
    "key, subkey = random.split(key)"
   ]
  },
  {
   "cell_type": "code",
   "execution_count": 118,
   "id": "3036c8b1",
   "metadata": {
    "slideshow": {
     "slide_type": "fragment"
    }
   },
   "outputs": [
    {
     "data": {
      "text/plain": [
       "Array([-1.6652092 ,  0.23443979, -0.24498989,  0.44707215,  0.2563031 ,\n",
       "        0.28259823, -0.11017016,  0.5699527 ,  0.33960482, -1.7104207 ],      dtype=float32)"
      ]
     },
     "execution_count": 118,
     "metadata": {},
     "output_type": "execute_result"
    }
   ],
   "source": [
    "random.normal(subkey,[10])"
   ]
  },
  {
   "cell_type": "code",
   "execution_count": 119,
   "id": "3b5c86a9",
   "metadata": {
    "slideshow": {
     "slide_type": "fragment"
    }
   },
   "outputs": [],
   "source": [
    "key, subkey = random.split(key)\n",
    "# Get another subkey"
   ]
  },
  {
   "cell_type": "code",
   "execution_count": 120,
   "id": "17931877",
   "metadata": {
    "slideshow": {
     "slide_type": "fragment"
    }
   },
   "outputs": [
    {
     "data": {
      "text/plain": [
       "Array([ 0.3775522 ,  0.86482465,  0.35859048, -1.3558996 , -1.3783264 ,\n",
       "       -1.6572771 , -0.9572237 , -0.6402885 ,  1.7951181 ,  2.5553172 ],      dtype=float32)"
      ]
     },
     "execution_count": 120,
     "metadata": {},
     "output_type": "execute_result"
    }
   ],
   "source": [
    "random.normal(subkey,[10])"
   ]
  },
  {
   "cell_type": "markdown",
   "id": "2ff367fa",
   "metadata": {
    "slideshow": {
     "slide_type": "slide"
    }
   },
   "source": [
    "# Random Number Generation: Example"
   ]
  },
  {
   "cell_type": "code",
   "execution_count": 106,
   "id": "630731e2",
   "metadata": {
    "slideshow": {
     "slide_type": "fragment"
    }
   },
   "outputs": [],
   "source": [
    "global global_key \n",
    "# Define key as a global variable"
   ]
  },
  {
   "cell_type": "code",
   "execution_count": 107,
   "id": "1a26734d",
   "metadata": {
    "slideshow": {
     "slide_type": "fragment"
    }
   },
   "outputs": [],
   "source": [
    "global_key = random.key(42)"
   ]
  },
  {
   "cell_type": "code",
   "execution_count": 128,
   "id": "0e42d449",
   "metadata": {
    "slideshow": {
     "slide_type": "fragment"
    }
   },
   "outputs": [
    {
     "data": {
      "text/plain": [
       "Array((), dtype=key<fry>) overlaying:\n",
       "[2227035060 2872287042]"
      ]
     },
     "execution_count": 128,
     "metadata": {},
     "output_type": "execute_result"
    }
   ],
   "source": [
    "global_key"
   ]
  },
  {
   "cell_type": "code",
   "execution_count": 131,
   "id": "4449dae7",
   "metadata": {
    "slideshow": {
     "slide_type": "subslide"
    }
   },
   "outputs": [],
   "source": [
    "def rand_func(x):\n",
    "    \n",
    "    global global_key\n",
    "    \n",
    "    print('\\tBefore:',global_key)\n",
    "    \n",
    "    global_key, subkey = random.split(global_key)\n",
    "    # Split global_key, keep one of the new keys\n",
    "    \n",
    "    r = jax.random.uniform(shape = [1],key = subkey,minval = 0.0, maxval = 1.0)\n",
    "    # Use the subkey\n",
    "    \n",
    "    print('\\tAfter:',global_key)\n",
    "    \n",
    "    return jnp.where(r > 0.5, x, 0.0)[0]"
   ]
  },
  {
   "cell_type": "code",
   "execution_count": 135,
   "id": "46dd5303",
   "metadata": {
    "slideshow": {
     "slide_type": "fragment"
    }
   },
   "outputs": [
    {
     "name": "stdout",
     "output_type": "stream",
     "text": [
      "\tBefore: Array((), dtype=key<fry>) overlaying:\n",
      "[3409150811 1941176354]\n",
      "\tAfter: Array((), dtype=key<fry>) overlaying:\n",
      "[3771996562  755989044]\n",
      "->  0.0\n",
      "\tBefore: Array((), dtype=key<fry>) overlaying:\n",
      "[3771996562  755989044]\n",
      "\tAfter: Array((), dtype=key<fry>) overlaying:\n",
      "[2247211812  876494065]\n",
      "->  0.0\n",
      "\tBefore: Array((), dtype=key<fry>) overlaying:\n",
      "[2247211812  876494065]\n",
      "\tAfter: Array((), dtype=key<fry>) overlaying:\n",
      "[3390529608 3010500662]\n",
      "->  0.0\n",
      "\tBefore: Array((), dtype=key<fry>) overlaying:\n",
      "[3390529608 3010500662]\n",
      "\tAfter: Array((), dtype=key<fry>) overlaying:\n",
      "[3058230843 2962627691]\n",
      "->  3.0\n",
      "\tBefore: Array((), dtype=key<fry>) overlaying:\n",
      "[3058230843 2962627691]\n",
      "\tAfter: Array((), dtype=key<fry>) overlaying:\n",
      "[4046737378 1557832356]\n",
      "->  4.0\n"
     ]
    }
   ],
   "source": [
    "for i in range(5):\n",
    "    print('-> ',rand_func(i))"
   ]
  },
  {
   "cell_type": "code",
   "execution_count": 136,
   "id": "facb35f6",
   "metadata": {},
   "outputs": [
    {
     "name": "stdout",
     "output_type": "stream",
     "text": [
      "\tBefore: Array((), dtype=key<fry>) overlaying:\n",
      "[4046737378 1557832356]\n",
      "\tAfter: Array((), dtype=key<fry>) overlaying:\n",
      "[590074140 438467548]\n"
     ]
    },
    {
     "data": {
      "text/plain": [
       "Array(0., dtype=float32)"
      ]
     },
     "execution_count": 136,
     "metadata": {},
     "output_type": "execute_result"
    }
   ],
   "source": [
    "jax.grad(rand_func)(1.0)\n",
    "# Now we can take the grad of this random function"
   ]
  },
  {
   "cell_type": "markdown",
   "id": "5bb4536b",
   "metadata": {
    "slideshow": {
     "slide_type": "slide"
    }
   },
   "source": [
    "# What can I use JAX for?\n",
    "\n",
    "- Quick optimisation of existing Python code using `jit()`\n",
    "- Quickly scaling up ML prototypes\n",
    "- Directly accessing gradients in complex ML/RL simulations\n",
    "- Refactoring optimisation problems into gradient-based optimisation framework"
   ]
  },
  {
   "cell_type": "markdown",
   "id": "61dade74",
   "metadata": {
    "slideshow": {
     "slide_type": "slide"
    }
   },
   "source": [
    "# Learn More\n",
    "\n",
    "## Beginner\n",
    "- [Video] [Intro to Jax](https://www.youtube.com/watch?v=WdTeDXsOSj4)\n",
    "\n",
    "## Novice\n",
    "- [Notebooks] [Jax cookbook](https://www.kaggle.com/code/truthr/learn-jax-from-linear-regression-to-neural-networ?scriptVersionId=91121887)\n",
    "\n",
    "## Expert\n",
    "- [Blog] [Intro to Auto Diff](https://alexey.radul.name/ideas/2013/introduction-to-automatic-differentiation/)\n",
    "- [Video] [DeepMind Session on Jax Ecosystem](https://www.youtube.com/watch?v=iDxJxIyzSiM)\n",
    "- [Video] [Intro to JaxMD](https://www.youtube.com/watch?v=Bkm8tGET7-w&t=2486s)"
   ]
  },
  {
   "cell_type": "markdown",
   "id": "a6553e09",
   "metadata": {
    "slideshow": {
     "slide_type": "slide"
    }
   },
   "source": [
    "# In Summary\n",
    "\n",
    "![Back prop](figs/8nymkn.jpeg)"
   ]
  },
  {
   "cell_type": "code",
   "execution_count": 77,
   "id": "58cafb43",
   "metadata": {},
   "outputs": [
    {
     "data": {
      "text/plain": [
       "{ lambda ; a:f32[50]. let\n",
       "    b:f32[50] = pjit[\n",
       "      name=my_func\n",
       "      jaxpr={ lambda ; c:f32[50]. let\n",
       "          d:f32[50] = integer_pow[y=2] c\n",
       "          e:f32[50] = add d 1.0\n",
       "        in (e,) }\n",
       "    ] a\n",
       "  in (b,) }"
      ]
     },
     "execution_count": 77,
     "metadata": {},
     "output_type": "execute_result"
    }
   ],
   "source": [
    "jax.make_jaxpr(my_func_jitted)(x)"
   ]
  },
  {
   "cell_type": "code",
   "execution_count": 73,
   "id": "cfea2757",
   "metadata": {},
   "outputs": [],
   "source": [
    "??my_func"
   ]
  },
  {
   "cell_type": "code",
   "execution_count": null,
   "id": "78d1e0c1",
   "metadata": {},
   "outputs": [],
   "source": []
  }
 ],
 "metadata": {
  "celltoolbar": "Slideshow",
  "kernelspec": {
   "display_name": "Python 3 (ipykernel)",
   "language": "python",
   "name": "python3"
  },
  "language_info": {
   "codemirror_mode": {
    "name": "ipython",
    "version": 3
   },
   "file_extension": ".py",
   "mimetype": "text/x-python",
   "name": "python",
   "nbconvert_exporter": "python",
   "pygments_lexer": "ipython3",
   "version": "3.10.14"
  }
 },
 "nbformat": 4,
 "nbformat_minor": 5
}
